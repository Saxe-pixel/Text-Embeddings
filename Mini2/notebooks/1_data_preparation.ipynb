{
 "cells": [
  {
   "cell_type": "code",
   "execution_count": 1,
   "metadata": {},
   "outputs": [],
   "source": [
    "import sys\n",
    "import os\n",
    "\n",
    "# Add project root to sys.path so `src` works\n",
    "sys.path.append(os.path.abspath(\"..\"))"
   ]
  },
  {
   "cell_type": "markdown",
   "metadata": {},
   "source": [
    "Scan the fist 100.000 lines and pick all the humans."
   ]
  },
  {
   "cell_type": "code",
   "execution_count": 2,
   "metadata": {},
   "outputs": [
    {
     "name": "stdout",
     "output_type": "stream",
     "text": [
      "✅ Found 13434 human entities\n",
      "🧍 Example QIDs: ['Q322228', 'Q29196', 'Q212436', 'Q139475', 'Q276404']\n"
     ]
    }
   ],
   "source": [
    "from src import parser\n",
    "\n",
    "file_path = \"../data.nosync/latest-truthy.nt.bz2\"\n",
    "\n",
    "# Scan only the first 1 million triples (fast test)\n",
    "human_qids = parser.extract_human_qids(file_path, max_count=1_000_000)\n",
    "\n",
    "print(f\"✅ Found {len(human_qids)} human entities\")\n",
    "print(\"🧍 Example QIDs:\", list(human_qids)[:5])"
   ]
  },
  {
   "cell_type": "markdown",
   "metadata": {},
   "source": [
    "Dictionary of human facts"
   ]
  },
  {
   "cell_type": "code",
   "execution_count": 3,
   "metadata": {},
   "outputs": [],
   "source": [
    "from collections import defaultdict\n",
    "from tqdm import tqdm\n",
    "import json\n",
    "\n",
    "def collect_facts_for_humans(file_path, human_qids, max_lines=None, save_path=None):\n",
    "    \"\"\"\n",
    "    Scans the .nt.bz2 file and builds a dict of human facts.\n",
    "    Optionally saves the result to a .json file.\n",
    "    Returns: dict {QID: {property: [values]}}\n",
    "    \"\"\"\n",
    "    facts = defaultdict(lambda: defaultdict(list))\n",
    "    line_gen = parser.stream_triples(file_path)\n",
    "\n",
    "    for i, (subj, pred, obj) in enumerate(tqdm(line_gen, desc=\"🔍 Parsing triples\")):\n",
    "        subj_qid = parser.get_qid(subj)\n",
    "        if subj_qid in human_qids:\n",
    "            pid = parser.get_qid(pred)\n",
    "            val = parser.get_qid(obj) if \"/entity/\" in obj else obj\n",
    "            facts[subj_qid][pid].append(val)\n",
    "\n",
    "        if max_lines and i >= max_lines:\n",
    "            break\n",
    "\n",
    "    # Optional save\n",
    "    if save_path:\n",
    "        print(f\"💾 Saving to {save_path}...\")\n",
    "        with open(save_path, \"w\", encoding=\"utf-8\") as f:\n",
    "            json.dump(facts, f, indent=2)\n",
    "\n",
    "    return facts\n"
   ]
  },
  {
   "cell_type": "code",
   "execution_count": 4,
   "metadata": {},
   "outputs": [
    {
     "name": "stderr",
     "output_type": "stream",
     "text": [
      "🔍 Parsing triples: 2000000it [00:33, 60059.22it/s]\n"
     ]
    },
    {
     "name": "stdout",
     "output_type": "stream",
     "text": [
      "💾 Saving to ../data.nosync/human_facts.json...\n",
      "📌 Entity: Q23\n",
      "  - 22-rdf-syntax-ns#type: ['http://schema.org/Dataset', 'http://wikiba.se/ontology#Item']\n",
      "  - about: ['Q23']\n",
      "  - P509: ['Q3827083']\n",
      "  - P20: ['Q731635']\n",
      "  - P26: ['Q191789']\n"
     ]
    }
   ],
   "source": [
    "file_path = \"../data.nosync/latest-truthy.nt.bz2\"\n",
    "save_file = \"../data.nosync/human_facts.json\"\n",
    "\n",
    "human_facts = collect_facts_for_humans(\n",
    "    file_path=file_path,\n",
    "    human_qids=human_qids,\n",
    "    max_lines=2_000_000,\n",
    "    save_path=save_file\n",
    ")\n",
    "\n",
    "qid = list(human_facts.keys())[0]\n",
    "sample = human_facts[qid]\n",
    "\n",
    "print(f\"📌 Entity: {qid}\")\n",
    "for prop, values in list(sample.items())[:5]:  # Show only first 5 properties\n",
    "    print(f\"  - {prop}: {values}\")\n"
   ]
  },
  {
   "cell_type": "markdown",
   "metadata": {},
   "source": [
    "Text generation"
   ]
  },
  {
   "cell_type": "code",
   "execution_count": 5,
   "metadata": {},
   "outputs": [
    {
     "name": "stdout",
     "output_type": "stream",
     "text": [
      "Q23 has the following attributes:\n",
      "- 22-rdf-syntax-ns#type: http://schema.org/Dataset, http://wikiba.se/ontology#Item\n",
      "- about: Q23\n",
      "- P509: Q3827083\n",
      "- P20: Q731635\n",
      "- P26: Q191789\n",
      "- P109: http://commons.wikimedia.org/wiki/Special:FilePath/George%20Washington%20signature.svg\n",
      "- P22: Q768342\n",
      "- P25: Q458119\n",
      "- P27: Q161885, Q30\n",
      "- P106: Q82955, Q131512, Q1734662, Q21772571, Q81096, Q372436, Q3242115, Q36180, Q38239859\n",
      "- P237: Q5138446\n",
      "- P94: http://commons.wikimedia.org/wiki/Special:FilePath/George%20Washington%20Arms.svg\n",
      "- P18: http://commons.wikimedia.org/wiki/Special:FilePath/Gilbert%20Stuart%20Williamstown%20Portrait%20of%20George%20Washington.jpg\n",
      "- P227: https://d-nb.info/gnd/11876439X\n",
      "- P244: http://id.loc.gov/authorities/names/n86140996\n",
      "- P214: http://viaf.org/viaf/31432428\n",
      "- P166: Q3519573, Q721743, Q52382875, Q721743\n",
      "- P119: Q56546631\n",
      "- P39: Q11696, Q1115127, Q1115127, Q140686, Q1467287, Q88965329, Q127639560, Q20065408\n",
      "- P410: Q3280545, Q2046665, Q3100539, Q104680\n",
      "- P349: http://id.ndl.go.jp/auth/ndlna/00621629\n",
      "- P269: http://www.idref.fr/027333140/id\n",
      "- P735: Q15921732\n",
      "- P463: Q41726, Q466089, Q463303, Q26721351, Q1632484\n",
      "- P241: Q54122, Q9212\n",
      "- P607: Q40949, Q1444930, Q154697, Q210602, Q2449358, Q2630469, Q2656995, Q3177722, Q524828, Q695485, Q8055814\n",
      "- P910: Q8488276\n",
      "- P906: http://libris.kb.se/resource/auth/241381\n",
      "- P734: Q2550388\n",
      "- P361: Q186539\n",
      "- P1196: Q3739104\n",
      "- P1741: http://data.beeldengeluid.nl/gtaa/168080\n",
      "- P1248: http://kulturnav.org/255f3478-efee-4ff7-8d00-560e222e27b0\n",
      "- P1938: http://www.gutenberg.org/ebooks/author/4659\n",
      "- P1442: http://commons.wikimedia.org/wiki/Special:FilePath/George%20Washington%27s%20Tomb.jpg\n",
      "- P103: Q1860\n",
      "- P648: http://openlibrary.org/works/OL17013A\n",
      "- P1343: Q2657718, Q17378135, Q20078554, Q602358, Q19180675, Q4114391, Q67311526, Q3181656, Q104218168, Q106727050, Q867541, Q20096917, Q19098835, Q116505765, Q19085957, Q19077875, Q19047539, Q16082057, Q1029706, Q4532138\n",
      "- P1871: http://thesaurus.cerl.org/record/cnp01259826\n",
      "- P2163: http://id.worldcat.org/fast/178100\n",
      "- P950: https://datos.bne.es/resource/XX1157500\n",
      "- P140: Q682443, Q41726\n",
      "- P3373: Q850421, Q7412891, Q6219733, Q5083373, Q75764188, Q75764192, Q969817, Q4821226, Q75764198\n",
      "- P551: Q1345, Q494413, Q60, Q731635\n",
      "- P1412: Q1860\n",
      "- P3429: http://dx.doi.org/10.13051/ee:bio/washigeorg003518\n",
      "- P102: Q42189\n",
      "- P1038: Q21004273, Q1701323\n",
      "- P1415: http://dx.doi.org/10.1093/ref:odnb/61288\n",
      "- P1015: https://livedata.bibsys.no/authority/90137110\n",
      "- P4823: http://dx.doi.org/10.1093/anb/9780198606697.article.0200332\n",
      "- P5008: Q5460604, Q104694359, Q6173448, Q121437821\n",
      "- P1617: http://www.bbc.co.uk/things/b7323934-cc78-4c83-bd5c-cf00ca72ebf4#id\n",
      "- P268: http://data.bnf.fr/ark:/12148/cb11928912p#about\n",
      "- P1006: http://data.bibliotheken.nl/id/thes/p069038171\n",
      "- P5587: https://libris.kb.se/hftwzz7114kdn4n\n",
      "- P245: http://vocab.getty.edu/ulan/500126198\n",
      "- P21: Q6581097\n",
      "- P1830: Q19568889, Q48895080, Q1647292, Q731635\n",
      "- P31: Q5\n",
      "- P3091: Q19568889, Q6990337\n",
      "- P6886: Q1860\n",
      "- P271: https://ci.nii.ac.jp/author/DA01665235#entity\n",
      "- P5034: http://lod.nl.go.kr/resource/KAC201620955\n",
      "- P485: Q14708020, Q7013887\n",
      "- P989: http://commons.wikimedia.org/wiki/Special:FilePath/En-George%20Washington-article.ogg\n",
      "- P5739: http://catalogo.pusc.it/auth/83571\n",
      "- P6553: L485\n",
      "- P8195: http://commons.wikimedia.org/wiki/Special:FilePath/George%20Washington%E2%80%99s%20bookplate.%20Sotheby%27s.jpg\n",
      "- P19: Q494413\n",
      "- P1050: Q129104, Q3579096\n",
      "- P8408: http://kbpedia.org/kko/rc/GeorgeWashington\n",
      "- P3602: Q698073, Q697949\n",
      "- P5063: http://globalwordnet.org/ili/i97352\n",
      "- P3348: http://data.nlg.gr/resource/authority/A102286, http://data.nlg.gr/resource/authority/A98690\n",
      "- P2581: http://babelnet.org/rdf/s00040239n\n",
      "- P7763: Q71887839\n",
      "- P1299: Q47414451, Q46945392, Q1760522, Q7972547\n",
      "- P8814: http://wordnet-rdf.princeton.edu/rdf/id/11395413-n\n",
      "- P53: Q96414308\n",
      "- P8168: Q144298\n",
      "- P9493: Q98665879\n",
      "- P6379: Q50632603\n",
      "- P434: http://musicbrainz.org/artist/b0eb9de7-74d7-4177-9ac0-4f54cf462c76\n",
      "- P7084: Q112031906, Q8950484\n",
      "- P1424: Q18132310\n",
      "- P1441: Q2385\n",
      "- P3716: Q10076267\n",
      "- P11496: https://cir.nii.ac.jp/crid/1140000791662457472.rdf\n",
      "- P511: Q119496669, Q119496924\n",
      "- P1889: Q25301\n",
      "- P973: https://www.obalkyknih.cz/view_auth?auth_id=jn19990008936, https://elections.lib.tufts.edu/catalog/WG0011, https://www.bartleby.com/lit-hub/library/bios/george-washington-17321799/, http://www.digiporta.net/index.php?id=342293765\n",
      "- P40: Q1508559\n",
      "- P5361: https://bl.natbib-lod.org/wd-a621704982415866\n"
     ]
    }
   ],
   "source": [
    "from src.text_builder import build_text_representation, load_labels\n",
    "\n",
    "# Load saved human facts\n",
    "import json\n",
    "with open(\"../data.nosync/human_facts.json\", \"r\") as f:\n",
    "    human_facts = json.load(f)\n",
    "\n",
    "# Pick a QID to test\n",
    "qid = list(human_facts.keys())[0]\n",
    "text = build_text_representation(qid, human_facts[qid])\n",
    "\n",
    "print(text)\n"
   ]
  },
  {
   "cell_type": "markdown",
   "metadata": {},
   "source": [
    "DONT RUN BELOW EVERY TIME!!"
   ]
  },
  {
   "cell_type": "code",
   "execution_count": 6,
   "metadata": {},
   "outputs": [
    {
     "name": "stderr",
     "output_type": "stream",
     "text": [
      "🔤 Loading labels: 100093011it [02:50, 278269.96it/s]"
     ]
    },
    {
     "name": "stdout",
     "output_type": "stream",
     "text": [
      "💾 [Checkpoint] Saved 834,699 labels to ../data.nosync/label_map_full.json at line 100,000,000\n"
     ]
    },
    {
     "name": "stderr",
     "output_type": "stream",
     "text": [
      "🔤 Loading labels: 200066689it [05:46, 202241.45it/s]"
     ]
    },
    {
     "name": "stdout",
     "output_type": "stream",
     "text": [
      "💾 [Checkpoint] Saved 1,554,766 labels to ../data.nosync/label_map_full.json at line 200,000,000\n"
     ]
    },
    {
     "name": "stderr",
     "output_type": "stream",
     "text": [
      "🔤 Loading labels: 300081327it [08:54, 120444.97it/s]"
     ]
    },
    {
     "name": "stdout",
     "output_type": "stream",
     "text": [
      "💾 [Checkpoint] Saved 2,502,445 labels to ../data.nosync/label_map_full.json at line 300,000,000\n"
     ]
    },
    {
     "name": "stderr",
     "output_type": "stream",
     "text": [
      "🔤 Loading labels: 400049604it [12:04, 67757.77it/s] "
     ]
    },
    {
     "name": "stdout",
     "output_type": "stream",
     "text": [
      "💾 [Checkpoint] Saved 3,294,261 labels to ../data.nosync/label_map_full.json at line 400,000,000\n"
     ]
    },
    {
     "name": "stderr",
     "output_type": "stream",
     "text": [
      "🔤 Loading labels: 500064401it [15:23, 62608.19it/s] "
     ]
    },
    {
     "name": "stdout",
     "output_type": "stream",
     "text": [
      "💾 [Checkpoint] Saved 4,336,525 labels to ../data.nosync/label_map_full.json at line 500,000,000\n"
     ]
    },
    {
     "name": "stderr",
     "output_type": "stream",
     "text": [
      "🔤 Loading labels: 600084322it [18:32, 65470.01it/s] "
     ]
    },
    {
     "name": "stdout",
     "output_type": "stream",
     "text": [
      "💾 [Checkpoint] Saved 5,743,923 labels to ../data.nosync/label_map_full.json at line 600,000,000\n"
     ]
    },
    {
     "name": "stderr",
     "output_type": "stream",
     "text": [
      "🔤 Loading labels: 700059328it [21:55, 41430.53it/s] "
     ]
    },
    {
     "name": "stdout",
     "output_type": "stream",
     "text": [
      "💾 [Checkpoint] Saved 7,351,504 labels to ../data.nosync/label_map_full.json at line 700,000,000\n"
     ]
    },
    {
     "name": "stderr",
     "output_type": "stream",
     "text": [
      "🔤 Loading labels: 800062016it [25:14, 39919.08it/s] "
     ]
    },
    {
     "name": "stdout",
     "output_type": "stream",
     "text": [
      "💾 [Checkpoint] Saved 8,458,756 labels to ../data.nosync/label_map_full.json at line 800,000,000\n"
     ]
    },
    {
     "name": "stderr",
     "output_type": "stream",
     "text": [
      "🔤 Loading labels: 900053015it [28:05, 37925.11it/s] "
     ]
    },
    {
     "name": "stdout",
     "output_type": "stream",
     "text": [
      "💾 [Checkpoint] Saved 9,511,597 labels to ../data.nosync/label_map_full.json at line 900,000,000\n"
     ]
    },
    {
     "name": "stderr",
     "output_type": "stream",
     "text": [
      "🔤 Loading labels: 918893437it [28:41, 533633.77it/s]\n"
     ]
    },
    {
     "ename": "KeyboardInterrupt",
     "evalue": "",
     "output_type": "error",
     "traceback": [
      "\u001b[0;31m---------------------------------------------------------------------------\u001b[0m",
      "\u001b[0;31mKeyboardInterrupt\u001b[0m                         Traceback (most recent call last)",
      "Cell \u001b[0;32mIn[6], line 8\u001b[0m\n\u001b[1;32m      5\u001b[0m bz2_path \u001b[38;5;241m=\u001b[39m \u001b[38;5;124m\"\u001b[39m\u001b[38;5;124m../data.nosync/latest-truthy.nt.bz2\u001b[39m\u001b[38;5;124m\"\u001b[39m\n\u001b[1;32m      6\u001b[0m label_cache \u001b[38;5;241m=\u001b[39m \u001b[38;5;124m\"\u001b[39m\u001b[38;5;124m../data.nosync/label_map_full.json\u001b[39m\u001b[38;5;124m\"\u001b[39m\n\u001b[0;32m----> 8\u001b[0m label_map \u001b[38;5;241m=\u001b[39m \u001b[43mload_labels\u001b[49m\u001b[43m(\u001b[49m\u001b[43mbz2_path\u001b[49m\u001b[43m,\u001b[49m\u001b[43m \u001b[49m\u001b[43msave_path\u001b[49m\u001b[38;5;241;43m=\u001b[39;49m\u001b[43mlabel_cache\u001b[49m\u001b[43m,\u001b[49m\u001b[43m \u001b[49m\u001b[43msave_every\u001b[49m\u001b[38;5;241;43m=\u001b[39;49m\u001b[38;5;241;43m100_000_000\u001b[39;49m\u001b[43m)\u001b[49m  \u001b[38;5;66;03m# No max_lines!\u001b[39;00m\n",
      "File \u001b[0;32m~/Desktop/GitHub/Text-Embeddings/Mini2/src/text_builder.py:50\u001b[0m, in \u001b[0;36mload_labels\u001b[0;34m(file_path, max_lines, save_path, save_every)\u001b[0m\n\u001b[1;32m     47\u001b[0m pattern \u001b[38;5;241m=\u001b[39m re\u001b[38;5;241m.\u001b[39mcompile(\u001b[38;5;124mr\u001b[39m\u001b[38;5;124m'\u001b[39m\u001b[38;5;124m<http://www.wikidata.org/entity/(Q\u001b[39m\u001b[38;5;124m\\\u001b[39m\u001b[38;5;124md+|P\u001b[39m\u001b[38;5;124m\\\u001b[39m\u001b[38;5;124md+)> .*<http://www.w3.org/2000/01/rdf-schema#label> \u001b[39m\u001b[38;5;124m\"\u001b[39m\u001b[38;5;124m(.*?)\u001b[39m\u001b[38;5;124m\"\u001b[39m\u001b[38;5;124m@en\u001b[39m\u001b[38;5;124m'\u001b[39m)\n\u001b[1;32m     49\u001b[0m \u001b[38;5;28;01mwith\u001b[39;00m bz2\u001b[38;5;241m.\u001b[39mopen(file_path, \u001b[38;5;124m'\u001b[39m\u001b[38;5;124mrt\u001b[39m\u001b[38;5;124m'\u001b[39m, encoding\u001b[38;5;241m=\u001b[39m\u001b[38;5;124m'\u001b[39m\u001b[38;5;124mutf-8\u001b[39m\u001b[38;5;124m'\u001b[39m) \u001b[38;5;28;01mas\u001b[39;00m f:\n\u001b[0;32m---> 50\u001b[0m     \u001b[38;5;28;01mfor\u001b[39;00m i, line \u001b[38;5;129;01min\u001b[39;00m \u001b[38;5;28menumerate\u001b[39m(tqdm(f, desc\u001b[38;5;241m=\u001b[39m\u001b[38;5;124m\"\u001b[39m\u001b[38;5;124m🔤 Loading labels\u001b[39m\u001b[38;5;124m\"\u001b[39m)):\n\u001b[1;32m     51\u001b[0m         match \u001b[38;5;241m=\u001b[39m pattern\u001b[38;5;241m.\u001b[39mmatch(line)\n\u001b[1;32m     52\u001b[0m         \u001b[38;5;28;01mif\u001b[39;00m match:\n",
      "File \u001b[0;32m~/.pyenv/versions/3.10.14/lib/python3.10/site-packages/tqdm/std.py:1181\u001b[0m, in \u001b[0;36mtqdm.__iter__\u001b[0;34m(self)\u001b[0m\n\u001b[1;32m   1178\u001b[0m time \u001b[38;5;241m=\u001b[39m \u001b[38;5;28mself\u001b[39m\u001b[38;5;241m.\u001b[39m_time\n\u001b[1;32m   1180\u001b[0m \u001b[38;5;28;01mtry\u001b[39;00m:\n\u001b[0;32m-> 1181\u001b[0m     \u001b[38;5;28;01mfor\u001b[39;00m obj \u001b[38;5;129;01min\u001b[39;00m iterable:\n\u001b[1;32m   1182\u001b[0m         \u001b[38;5;28;01myield\u001b[39;00m obj\n\u001b[1;32m   1183\u001b[0m         \u001b[38;5;66;03m# Update and possibly print the progressbar.\u001b[39;00m\n\u001b[1;32m   1184\u001b[0m         \u001b[38;5;66;03m# Note: does not call self.update(1) for speed optimisation.\u001b[39;00m\n",
      "File \u001b[0;32m~/.pyenv/versions/3.10.14/lib/python3.10/bz2.py:176\u001b[0m, in \u001b[0;36mBZ2File.read1\u001b[0;34m(self, size)\u001b[0m\n\u001b[1;32m    174\u001b[0m \u001b[38;5;28;01mif\u001b[39;00m size \u001b[38;5;241m<\u001b[39m \u001b[38;5;241m0\u001b[39m:\n\u001b[1;32m    175\u001b[0m     size \u001b[38;5;241m=\u001b[39m io\u001b[38;5;241m.\u001b[39mDEFAULT_BUFFER_SIZE\n\u001b[0;32m--> 176\u001b[0m \u001b[38;5;28;01mreturn\u001b[39;00m \u001b[38;5;28;43mself\u001b[39;49m\u001b[38;5;241;43m.\u001b[39;49m\u001b[43m_buffer\u001b[49m\u001b[38;5;241;43m.\u001b[39;49m\u001b[43mread1\u001b[49m\u001b[43m(\u001b[49m\u001b[43msize\u001b[49m\u001b[43m)\u001b[49m\n",
      "File \u001b[0;32m~/.pyenv/versions/3.10.14/lib/python3.10/_compression.py:68\u001b[0m, in \u001b[0;36mDecompressReader.readinto\u001b[0;34m(self, b)\u001b[0m\n\u001b[1;32m     66\u001b[0m \u001b[38;5;28;01mdef\u001b[39;00m\u001b[38;5;250m \u001b[39m\u001b[38;5;21mreadinto\u001b[39m(\u001b[38;5;28mself\u001b[39m, b):\n\u001b[1;32m     67\u001b[0m     \u001b[38;5;28;01mwith\u001b[39;00m \u001b[38;5;28mmemoryview\u001b[39m(b) \u001b[38;5;28;01mas\u001b[39;00m view, view\u001b[38;5;241m.\u001b[39mcast(\u001b[38;5;124m\"\u001b[39m\u001b[38;5;124mB\u001b[39m\u001b[38;5;124m\"\u001b[39m) \u001b[38;5;28;01mas\u001b[39;00m byte_view:\n\u001b[0;32m---> 68\u001b[0m         data \u001b[38;5;241m=\u001b[39m \u001b[38;5;28;43mself\u001b[39;49m\u001b[38;5;241;43m.\u001b[39;49m\u001b[43mread\u001b[49m\u001b[43m(\u001b[49m\u001b[38;5;28;43mlen\u001b[39;49m\u001b[43m(\u001b[49m\u001b[43mbyte_view\u001b[49m\u001b[43m)\u001b[49m\u001b[43m)\u001b[49m\n\u001b[1;32m     69\u001b[0m         byte_view[:\u001b[38;5;28mlen\u001b[39m(data)] \u001b[38;5;241m=\u001b[39m data\n\u001b[1;32m     70\u001b[0m     \u001b[38;5;28;01mreturn\u001b[39;00m \u001b[38;5;28mlen\u001b[39m(data)\n",
      "File \u001b[0;32m~/.pyenv/versions/3.10.14/lib/python3.10/_compression.py:103\u001b[0m, in \u001b[0;36mDecompressReader.read\u001b[0;34m(self, size)\u001b[0m\n\u001b[1;32m    101\u001b[0m     \u001b[38;5;28;01melse\u001b[39;00m:\n\u001b[1;32m    102\u001b[0m         rawblock \u001b[38;5;241m=\u001b[39m \u001b[38;5;124mb\u001b[39m\u001b[38;5;124m\"\u001b[39m\u001b[38;5;124m\"\u001b[39m\n\u001b[0;32m--> 103\u001b[0m     data \u001b[38;5;241m=\u001b[39m \u001b[38;5;28;43mself\u001b[39;49m\u001b[38;5;241;43m.\u001b[39;49m\u001b[43m_decompressor\u001b[49m\u001b[38;5;241;43m.\u001b[39;49m\u001b[43mdecompress\u001b[49m\u001b[43m(\u001b[49m\u001b[43mrawblock\u001b[49m\u001b[43m,\u001b[49m\u001b[43m \u001b[49m\u001b[43msize\u001b[49m\u001b[43m)\u001b[49m\n\u001b[1;32m    104\u001b[0m \u001b[38;5;28;01mif\u001b[39;00m data:\n\u001b[1;32m    105\u001b[0m     \u001b[38;5;28;01mbreak\u001b[39;00m\n",
      "\u001b[0;31mKeyboardInterrupt\u001b[0m: "
     ]
    }
   ],
   "source": [
    "# makes labelmap\n",
    "\n",
    "from src.text_builder import load_labels\n",
    "\n",
    "bz2_path = \"../data.nosync/latest-truthy.nt.bz2\"\n",
    "label_cache = \"../data.nosync/label_map_full.json\"\n",
    "\n",
    "label_map = load_labels(bz2_path, save_path=label_cache, save_every=100_000_000)  # No max_lines!\n"
   ]
  },
  {
   "cell_type": "code",
   "execution_count": null,
   "metadata": {},
   "outputs": [],
   "source": [
    "# Loads the label map from the cache\n",
    "\n",
    "from src.text_builder import load_labels_from_cache\n",
    "\n",
    "label_map = load_labels_from_cache(\"../data.nosync/label_map_full.json\")\n",
    "print(f\"✅ Loaded {len(label_map)} labels from cache\")"
   ]
  },
  {
   "cell_type": "code",
   "execution_count": null,
   "metadata": {},
   "outputs": [
    {
     "name": "stderr",
     "output_type": "stream",
     "text": [
      "🔤 Loading labels: 1999999it [00:03, 586403.03it/s]\n"
     ]
    },
    {
     "name": "stdout",
     "output_type": "stream",
     "text": [
      "George Washington has the following attributes:\n",
      "- 22-rdf-syntax-ns#type: http://schema.org/Dataset, http://wikiba.se/ontology#Item\n",
      "- about: George Washington\n",
      "- P509: Q3827083\n",
      "- P20: Q731635\n",
      "- P26: Q191789\n",
      "- P109: http://commons.wikimedia.org/wiki/Special:FilePath/George%20Washington%20signature.svg\n",
      "- P22: Q768342\n",
      "- P25: Q458119\n",
      "- P27: Q161885, Q30\n",
      "- P106: Q82955, Q131512, Q1734662, Q21772571, Q81096, Q372436, Q3242115, Q36180, Q38239859\n",
      "- P237: Q5138446\n",
      "- P94: http://commons.wikimedia.org/wiki/Special:FilePath/George%20Washington%20Arms.svg\n",
      "- P18: http://commons.wikimedia.org/wiki/Special:FilePath/Gilbert%20Stuart%20Williamstown%20Portrait%20of%20George%20Washington.jpg\n",
      "- P227: https://d-nb.info/gnd/11876439X\n",
      "- P244: http://id.loc.gov/authorities/names/n86140996\n",
      "- P214: http://viaf.org/viaf/31432428\n",
      "- P166: Q3519573, Q721743, Q52382875, Q721743\n",
      "- P119: Q56546631\n",
      "- P39: Q11696, Q1115127, Q1115127, Q140686, Q1467287, Q88965329, Q127639560, Q20065408\n",
      "- P410: Q3280545, Q2046665, Q3100539, Q104680\n",
      "- P349: http://id.ndl.go.jp/auth/ndlna/00621629\n",
      "- P269: http://www.idref.fr/027333140/id\n",
      "- P735: Q15921732\n",
      "- P463: freemasonry, Q466089, Q463303, Q26721351, Q1632484\n",
      "- P241: Q54122, Q9212\n",
      "- P607: Q40949, Q1444930, Q154697, Q210602, Q2449358, Q2630469, Q2656995, Q3177722, Q524828, Q695485, Q8055814\n",
      "- P910: Q8488276\n",
      "- P906: http://libris.kb.se/resource/auth/241381\n",
      "- P734: Q2550388\n",
      "- P361: Q186539\n",
      "- P1196: Q3739104\n",
      "- P1741: http://data.beeldengeluid.nl/gtaa/168080\n",
      "- P1248: http://kulturnav.org/255f3478-efee-4ff7-8d00-560e222e27b0\n",
      "- P1938: http://www.gutenberg.org/ebooks/author/4659\n",
      "- P1442: http://commons.wikimedia.org/wiki/Special:FilePath/George%20Washington%27s%20Tomb.jpg\n",
      "- P103: English\n",
      "- P648: http://openlibrary.org/works/OL17013A\n",
      "- P1343: Q2657718, Q17378135, Q20078554, Q602358, Q19180675, Q4114391, Q67311526, Q3181656, Q104218168, Q106727050, Q867541, Q20096917, Q19098835, Q116505765, Q19085957, Q19077875, Q19047539, Q16082057, Q1029706, Q4532138\n",
      "- P1871: http://thesaurus.cerl.org/record/cnp01259826\n",
      "- P2163: http://id.worldcat.org/fast/178100\n",
      "- P950: https://datos.bne.es/resource/XX1157500\n",
      "- P140: Q682443, freemasonry\n",
      "- P3373: Q850421, Q7412891, Q6219733, Q5083373, Q75764188, Q75764192, Q969817, Q4821226, Q75764198\n",
      "- P551: Q1345, Q494413, Q60, Q731635\n",
      "- P1412: English\n",
      "- P3429: http://dx.doi.org/10.13051/ee:bio/washigeorg003518\n",
      "- P102: Q42189\n",
      "- P1038: Q21004273, Q1701323\n",
      "- P1415: http://dx.doi.org/10.1093/ref:odnb/61288\n",
      "- P1015: https://livedata.bibsys.no/authority/90137110\n",
      "- P4823: http://dx.doi.org/10.1093/anb/9780198606697.article.0200332\n",
      "- P5008: Q5460604, Q104694359, Q6173448, Q121437821\n",
      "- P1617: http://www.bbc.co.uk/things/b7323934-cc78-4c83-bd5c-cf00ca72ebf4#id\n",
      "- P268: http://data.bnf.fr/ark:/12148/cb11928912p#about\n",
      "- P1006: http://data.bibliotheken.nl/id/thes/p069038171\n",
      "- P5587: https://libris.kb.se/hftwzz7114kdn4n\n",
      "- P245: http://vocab.getty.edu/ulan/500126198\n",
      "- P21: Q6581097\n",
      "- P1830: Q19568889, Q48895080, Q1647292, Q731635\n",
      "- P31: Q5\n",
      "- P3091: Q19568889, Q6990337\n",
      "- P6886: English\n",
      "- P271: https://ci.nii.ac.jp/author/DA01665235#entity\n",
      "- P5034: http://lod.nl.go.kr/resource/KAC201620955\n",
      "- P485: Q14708020, Q7013887\n",
      "- P989: http://commons.wikimedia.org/wiki/Special:FilePath/En-George%20Washington-article.ogg\n",
      "- P5739: http://catalogo.pusc.it/auth/83571\n",
      "- P6553: L485\n",
      "- P8195: http://commons.wikimedia.org/wiki/Special:FilePath/George%20Washington%E2%80%99s%20bookplate.%20Sotheby%27s.jpg\n",
      "- P19: Q494413\n",
      "- P1050: Q129104, Q3579096\n",
      "- P8408: http://kbpedia.org/kko/rc/GeorgeWashington\n",
      "- P3602: Q698073, Q697949\n",
      "- P5063: http://globalwordnet.org/ili/i97352\n",
      "- P3348: http://data.nlg.gr/resource/authority/A102286, http://data.nlg.gr/resource/authority/A98690\n",
      "- P2581: http://babelnet.org/rdf/s00040239n\n",
      "- P7763: Q71887839\n",
      "- P1299: Q47414451, Q46945392, Q1760522, Q7972547\n",
      "- P8814: http://wordnet-rdf.princeton.edu/rdf/id/11395413-n\n",
      "- P53: Q96414308\n",
      "- P8168: Q144298\n",
      "- P9493: Q98665879\n",
      "- P6379: Q50632603\n",
      "- P434: http://musicbrainz.org/artist/b0eb9de7-74d7-4177-9ac0-4f54cf462c76\n",
      "- P7084: Q112031906, Q8950484\n",
      "- P1424: Q18132310\n",
      "- P1441: Q2385\n",
      "- P3716: Q10076267\n",
      "- P11496: https://cir.nii.ac.jp/crid/1140000791662457472.rdf\n",
      "- P511: Q119496669, Q119496924\n",
      "- P1889: Q25301\n",
      "- P973: https://www.obalkyknih.cz/view_auth?auth_id=jn19990008936, https://elections.lib.tufts.edu/catalog/WG0011, https://www.bartleby.com/lit-hub/library/bios/george-washington-17321799/, http://www.digiporta.net/index.php?id=342293765\n",
      "- P40: Q1508559\n",
      "- P5361: https://bl.natbib-lod.org/wd-a621704982415866\n"
     ]
    }
   ],
   "source": [
    "# Load labels\n",
    "label_file = \"../data.nosync/latest-truthy.nt.bz2\"\n",
    "label_map = load_labels(label_file, max_lines=2_000_000)\n",
    "\n",
    "# Load facts\n",
    "import json\n",
    "with open(\"../data.nosync/human_facts.json\", \"r\") as f:\n",
    "    human_facts = json.load(f)\n",
    "\n",
    "# Build human-readable text for one QID\n",
    "qid = list(human_facts.keys())[0]\n",
    "text = build_text_representation(qid, human_facts[qid], label_map)\n",
    "\n",
    "print(text)"
   ]
  },
  {
   "cell_type": "code",
   "execution_count": null,
   "metadata": {},
   "outputs": [],
   "source": []
  }
 ],
 "metadata": {
  "kernelspec": {
   "display_name": "3.10.14",
   "language": "python",
   "name": "python3"
  },
  "language_info": {
   "codemirror_mode": {
    "name": "ipython",
    "version": 3
   },
   "file_extension": ".py",
   "mimetype": "text/x-python",
   "name": "python",
   "nbconvert_exporter": "python",
   "pygments_lexer": "ipython3",
   "version": "3.10.14"
  }
 },
 "nbformat": 4,
 "nbformat_minor": 2
}
