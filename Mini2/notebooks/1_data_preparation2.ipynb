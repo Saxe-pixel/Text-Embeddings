{
 "cells": [
  {
   "cell_type": "code",
   "execution_count": 2,
   "metadata": {},
   "outputs": [],
   "source": [
    "import sys\n",
    "import os\n",
    "\n",
    "# Add project root to sys.path so `src` works\n",
    "sys.path.append(os.path.abspath(\"..\"))"
   ]
  },
  {
   "cell_type": "markdown",
   "metadata": {},
   "source": [
    "Scan the fist 100.000 lines and pick all the humans."
   ]
  },
  {
   "cell_type": "code",
   "execution_count": 2,
   "metadata": {},
   "outputs": [
    {
     "name": "stdout",
     "output_type": "stream",
     "text": [
      "✅ Found 629673 human entities\n",
      "🧍 Example QIDs: ['Q52626843', 'Q6052353', 'Q13121768', 'Q57414255', 'Q63284286']\n"
     ]
    }
   ],
   "source": [
    "from src import parser\n",
    "\n",
    "file_path = \"../data.nosync/latest-truthy.nt.bz2\"\n",
    "\n",
    "# Scan only the first 1 million triples (fast test)\n",
    "human_qids = parser.extract_human_qids(file_path, max_count=100_000_000)\n",
    "\n",
    "print(f\"✅ Found {len(human_qids)} human entities\")\n",
    "print(\"🧍 Example QIDs:\", list(human_qids)[:5])"
   ]
  },
  {
   "cell_type": "markdown",
   "metadata": {},
   "source": [
    "Dictionary of human facts"
   ]
  },
  {
   "cell_type": "code",
   "execution_count": 3,
   "metadata": {},
   "outputs": [],
   "source": [
    "from collections import defaultdict\n",
    "from tqdm import tqdm\n",
    "import json\n",
    "\n",
    "def collect_facts_for_humans(file_path, human_qids, max_lines=None, save_path=None):\n",
    "    \"\"\"\n",
    "    Scans the .nt.bz2 file and builds a dict of human facts.\n",
    "    Optionally saves the result to a .json file.\n",
    "    Returns: dict {QID: {property: [values]}}\n",
    "    \"\"\"\n",
    "    facts = defaultdict(lambda: defaultdict(list))\n",
    "    line_gen = parser.stream_triples(file_path)\n",
    "\n",
    "    for i, (subj, pred, obj) in enumerate(tqdm(line_gen, desc=\"🔍 Parsing triples\")):\n",
    "        subj_qid = parser.get_qid(subj)\n",
    "        if subj_qid in human_qids:\n",
    "            pid = parser.get_qid(pred)\n",
    "            val = parser.get_qid(obj) if \"/entity/\" in obj else obj\n",
    "            facts[subj_qid][pid].append(val)\n",
    "\n",
    "        if max_lines and i >= max_lines:\n",
    "            break\n",
    "\n",
    "    # Optional save\n",
    "    if save_path:\n",
    "        print(f\"💾 Saving to {save_path}...\")\n",
    "        with open(save_path, \"w\", encoding=\"utf-8\") as f:\n",
    "            json.dump(facts, f, indent=2)\n",
    "\n",
    "    return facts\n"
   ]
  },
  {
   "cell_type": "code",
   "execution_count": null,
   "metadata": {},
   "outputs": [
    {
     "name": "stderr",
     "output_type": "stream",
     "text": [
      "🔍 Parsing triples: 100000000it [19:24, 85885.38it/s]\n"
     ]
    },
    {
     "name": "stdout",
     "output_type": "stream",
     "text": [
      "💾 Saving to ../data.nosync/human_facts.json...\n"
     ]
    }
   ],
   "source": [
    "file_path = \"../data.nosync/latest-truthy.nt.bz2\"\n",
    "save_file = \"../data.nosync/human_facts.json\"\n",
    "\n",
    "human_facts = collect_facts_for_humans(\n",
    "    file_path=file_path,\n",
    "    human_qids=human_qids,\n",
    "    max_lines=100_000_000,\n",
    "    save_path=save_file\n",
    ")\n",
    "\n",
    "qid = list(human_facts.keys())[0]\n",
    "sample = human_facts[qid]\n",
    "\n",
    "print(f\"📌 Entity: {qid}\")\n",
    "for prop, values in list(sample.items())[:5]:  # Show only first 5 properties\n",
    "    print(f\"  - {prop}: {values}\")\n"
   ]
  },
  {
   "cell_type": "markdown",
   "metadata": {},
   "source": [
    "Text generation"
   ]
  },
  {
   "cell_type": "code",
   "execution_count": 8,
   "metadata": {},
   "outputs": [
    {
     "name": "stdout",
     "output_type": "stream",
     "text": [
      "Q42 has the following attributes:\n",
      "- 22-rdf-syntax-ns#type: http://schema.org/Dataset, http://wikiba.se/ontology#Item\n",
      "- about: Q42\n",
      "- P31: Q5\n",
      "- P21: Q6581097\n",
      "- P106: Q214917, Q28389, Q6625963, Q4853732, Q18844224, Q245068, Q36180, Q639669\n",
      "- P800: Q25169, Q20736364, Q7758404\n",
      "- P19: Q350\n",
      "- P1196: Q3739104\n",
      "- P509: Q12152\n",
      "- P20: Q159288\n",
      "- P119: Q533697\n",
      "- P1442: http://commons.wikimedia.org/wiki/Special:FilePath/Douglas%20Adams%27%20gravestone.jpg\n",
      "- P1015: https://livedata.bibsys.no/authority/90196888\n",
      "- P735: Q463035, Q19688263\n",
      "- P734: Q351735\n",
      "- P27: Q145\n",
      "- P551: Q159288, Q84, Q909993, Q350\n",
      "- P103: Q1860\n",
      "- P244: http://id.loc.gov/authorities/names/n80076765\n",
      "- P214: http://viaf.org/viaf/113230702\n",
      "- P349: http://id.ndl.go.jp/auth/ndlna/00430962\n",
      "- P434: http://musicbrainz.org/artist/e9ed318d-8cc5-4cf8-ab77-505e39ab6ea4\n",
      "- P268: http://data.bnf.fr/ark:/12148/cb11888092r#about\n",
      "- P227: https://d-nb.info/gnd/119033364\n",
      "- P22: Q14623675\n",
      "- P25: Q14623678\n",
      "- P40: Q14623683\n",
      "- P906: http://libris.kb.se/resource/auth/230807\n",
      "- P1006: http://data.bibliotheken.nl/id/thes/p068744307, http://data.bibliotheken.nl/id/thes/p339433876\n",
      "- P108: Q9531, Q3520623\n",
      "- P271: https://ci.nii.ac.jp/author/DA07517784#entity\n",
      "- P856: https://douglasadams.com\n",
      "- P1411: Q3414212, Q2576795\n",
      "- P648: http://openlibrary.org/works/OL272947A\n",
      "- P2163: http://id.worldcat.org/fast/56544, http://id.worldcat.org/fast/1775523\n",
      "- P910: Q8935487\n",
      "- P1303: Q6607\n",
      "- P3373: Q14623673\n",
      "- P1617: http://www.bbc.co.uk/things/aa075cb6-75bf-46d8-b0bf-9751d6c04c93#id\n",
      "- P109: http://commons.wikimedia.org/wiki/Special:FilePath/Douglas%20Adams%20signature.svg\n",
      "- P136: Q24925, Q40831, Q128758\n",
      "- P1415: http://dx.doi.org/10.1093/ref:odnb/75853\n",
      "- P26: Q14623681\n",
      "- P463: Q857679, Q5610831\n",
      "- P5361: https://bl.natbib-lod.org/wd-AdamsDouglas1952-2001\n",
      "- P5587: https://libris.kb.se/1zcfh30k0gr4zxt\n",
      "- P269: http://www.idref.fr/026677636/id\n",
      "- P950: https://datos.bne.es/resource/XX1149955\n",
      "- P1412: Q1860\n",
      "- P485: Q67074906\n",
      "- P1343: Q67311526\n",
      "- P5034: http://lod.nl.go.kr/resource/KAC200300379\n",
      "- P7704: http://data.europeana.eu/agent/base/59925\n",
      "- P2581: http://babelnet.org/rdf/s03688580n\n",
      "- P6886: Q1860\n",
      "- P1424: Q22898962\n",
      "- P3348: http://data.nlg.gr/resource/authority/A202604\n",
      "- P8408: http://kbpedia.org/kko/rc/DouglasAdams\n",
      "- P7763: Q73555012\n",
      "- P1889: Q21454969\n",
      "- P172: Q7994501\n",
      "- P937: Q84\n",
      "- P1340: Q17122705\n",
      "- P101: Q3238422\n",
      "- P166: Q2687578, Q906455\n",
      "- P1149: http://id.loc.gov/authorities/classification/PR6051.D3352\n",
      "- P7084: Q8722666\n",
      "- P18: http://commons.wikimedia.org/wiki/Special:FilePath/Douglas%20adams%20portrait.jpg\n",
      "- P5008: Q6173448\n",
      "- P11496: https://cir.nii.ac.jp/crid/1140563741729620096.rdf\n",
      "- P140: Q7066\n",
      "- P69: Q4961791, Q691283\n",
      "- P989: http://commons.wikimedia.org/wiki/Special:FilePath/Wikipedia%20-%20Douglas%20Adams%20%28spoken%20by%20AI%20voice%29.mp3\n"
     ]
    }
   ],
   "source": [
    "from src.text_builder import build_text_representation, load_labels\n",
    "\n",
    "# Load saved human facts\n",
    "import json\n",
    "with open(\"../data.nosync/human_facts.json\", \"r\") as f:\n",
    "    human_facts = json.load(f)\n",
    "\n",
    "# Pick a QID to test\n",
    "qid = list(human_facts.keys())[1]\n",
    "text = build_text_representation(qid, human_facts[qid])\n",
    "\n",
    "print(text)\n"
   ]
  },
  {
   "cell_type": "markdown",
   "metadata": {},
   "source": [
    "DONT RUN BELOW EVERY TIME!!"
   ]
  },
  {
   "cell_type": "code",
   "execution_count": 2,
   "metadata": {},
   "outputs": [
    {
     "name": "stderr",
     "output_type": "stream",
     "text": [
      "🔤 Loading selected labels: 7934396038it [3:53:32, 566237.46it/s]\n"
     ]
    },
    {
     "name": "stdout",
     "output_type": "stream",
     "text": [
      "💾 Saved 1,282,195 selected labels to ../data.nosync/label_map_filtered.json\n"
     ]
    }
   ],
   "source": [
    "import json\n",
    "from src.text_builder2 import extract_relevant_ids, load_labels_for_ids\n",
    "\n",
    "# Load facts\n",
    "with open(\"../data.nosync/human_facts.json\", \"r\") as f:\n",
    "    human_facts = json.load(f)\n",
    "\n",
    "# Extract only the relevant QIDs and PIDs\n",
    "relevant_ids = extract_relevant_ids(human_facts)\n",
    "\n",
    "# Load labels just for those\n",
    "bz2_path = \"../data.nosync/latest-truthy.nt.bz2\"\n",
    "label_cache = \"../data.nosync/label_map_filtered.json\"\n",
    "label_map = load_labels_for_ids(bz2_path, relevant_ids, save_path=label_cache)\n"
   ]
  },
  {
   "cell_type": "code",
   "execution_count": 3,
   "metadata": {},
   "outputs": [
    {
     "name": "stdout",
     "output_type": "stream",
     "text": [
      "✅ Loaded 1282195 labels from cache\n"
     ]
    }
   ],
   "source": [
    "# Loads the label map from the cache\n",
    "\n",
    "from src.text_builder import load_labels_from_cache\n",
    "\n",
    "label_map = load_labels_from_cache(\"../data.nosync/label_map_filtered.json\")\n",
    "print(f\"✅ Loaded {len(label_map)} labels from cache\")"
   ]
  },
  {
   "cell_type": "code",
   "execution_count": 9,
   "metadata": {},
   "outputs": [
    {
     "name": "stdout",
     "output_type": "stream",
     "text": [
      "George Washington about George Washington, cause of death acute laryngitis, died in Mount Vernon, was married to Martha Washington, had a father named Augustine Washington, had a mother named Mary Ball Washington, was a citizen of Kingdom of Great Britain, United States, worked as politician, farmer, cartographer, geometer, engineer, statesperson, revolutionary, writer, army officer, coat of arms Coat of arms of George Washington, received the award Thanks of Congress, Congressional Gold Medal, Fellow of the American Academy of Arts and Sciences, Congressional Gold Medal, place of burial Washington's Tomb, held the position of President of the United States, Commanding General of the United States Army, Commanding General of the United States Army, chairperson, President-elect of the United States, member of the Virginia House of Burgesses, Delegate to the United States Constitutional Convention, member of the Virginia House of Delegates, held the military rank of major general, lieutenant general, General of the Armies of the United States, colonel, given name George, was a member of freemasonry, American Philosophical Society, American Academy of Arts and Sciences, Soci\\u00E9t\\u00E9 d'agriculture de Paris, Society of the Cincinnati, military branch Continental Army, United States Army, conflict American War of Independence, Philadelphia campaign, French and Indian War, Boston campaign, Battle of Fort Necessity, New York and New Jersey campaign, Northwest Indian War, Braddock Expedition, Battle of the Monongahela, Battle of Jumonville Glen, Yorktown campaign, topic's main category Category:George Washington, family name Washington, part of Founding Fathers of the United States, manner of death natural causes, spoke English, described by source Armenian Soviet Encyclopedia, Great Soviet Encyclopedia (1969\\u20131978), Great Soviet Encyclopedia (1926\\u20131947), Brockhaus and Efron Encyclopedic Dictionary, Small Brockhaus and Efron Encyclopedic Dictionary, Sytin Military Encyclopedia, Obalky knih.cz, The Nuttall Encyclop\\u00E6dia, A New Nation Votes: American Electoral Returns, 1788-1825, Metropolitan Museum of Art Tagging Vocabulary, Encyclop\\u00E6dia Britannica 11th edition, Encyclop\\u00E6dia Britannica Ninth Edition, Library of the World's Best Literature, The American Portrait Gallery, The Encyclopedia Americana, The American Cyclop\\u00E6dia, Collier's New Encyclopedia, 1921, The New Student's Reference Work, New International Encyclopedia, Granat Encyclopedic Dictionary, practiced Episcopal Church, freemasonry, had siblings including Betty Washington Lewis, Samuel Washington, John Augustine Washington, Charles Washington, Mildred Washington, Butler Washington, Lawrence Washington, Augustine Washington Jr., Jane Washington, lived in Philadelphia, Westmoreland County, New York City, Mount Vernon, languages spoken, written or signed English, member of political party Federalist Party, relative Martha Parke Custis, John Parke Custis, on focus list of Wikimedia project Wikipedia:List of articles all languages should have, WikiProject PCC Wikidata Pilot/Frick Art Reference Library, Wikipedia:Vital articles/Level/4, WikiProject New York Public Library, was male, owner of Blueskin, Hamilton, William Lee, Mount Vernon, instance of human, mount Blueskin, Nelson, writing language English, archives at Louis Round Wilson Library, New York Public Library Main Branch, personal pronoun L485, was born in Westmoreland County, medical condition Anthrax, edentulism, candidacy in election United States presidential election, 1792, United States presidential election, 1788\\u20131789, copyright status as a creator copyrights on works have expired, depicted by George Washington, George Washington, Lansdowne Portrait, George Washington at Princeton, family Washington family, FactGrid item ID Outer London, artist files at Smithsonian American Art and Portrait Gallery Library, has works in the collection(s) Royal Collections of the Netherlands, related category Category:Works by George Washington, Category:Works about George Washington, topic's main template Template:George Washington, present in work Civilization V, social classification slave owner, honorific prefix General, President, different from Washington, had children including George Washington Parke Custis.\n"
     ]
    }
   ],
   "source": [
    "# Load labels\n",
    "\n",
    "from src.text_builder2 import build_text_representation, load_labels_for_ids\n",
    "\n",
    "label_file = \"../data.nosync/latest-truthy.nt.bz2\"\n",
    "#label_map = load_labels(label_file, max_lines=2_000_000)\n",
    "\n",
    "# Load facts\n",
    "import json\n",
    "with open(\"../data.nosync/human_facts.json\", \"r\") as f:\n",
    "    human_facts = json.load(f)\n",
    "\n",
    "# Build human-readable text for one QID\n",
    "qid = list(human_facts.keys())[0]\n",
    "text = build_text_representation(qid, human_facts[qid], label_map)\n",
    "\n",
    "print(text)"
   ]
  },
  {
   "cell_type": "code",
   "execution_count": null,
   "metadata": {},
   "outputs": [],
   "source": []
  }
 ],
 "metadata": {
  "kernelspec": {
   "display_name": "3.10.14",
   "language": "python",
   "name": "python3"
  },
  "language_info": {
   "codemirror_mode": {
    "name": "ipython",
    "version": 3
   },
   "file_extension": ".py",
   "mimetype": "text/x-python",
   "name": "python",
   "nbconvert_exporter": "python",
   "pygments_lexer": "ipython3",
   "version": "3.10.14"
  }
 },
 "nbformat": 4,
 "nbformat_minor": 2
}
